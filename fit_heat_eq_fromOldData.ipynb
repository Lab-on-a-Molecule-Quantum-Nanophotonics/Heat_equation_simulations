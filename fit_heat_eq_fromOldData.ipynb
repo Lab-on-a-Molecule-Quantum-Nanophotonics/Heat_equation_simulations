{
 "cells": [
  {
   "cell_type": "code",
   "execution_count": 1,
   "id": "acf4551f",
   "metadata": {},
   "outputs": [],
   "source": [
    "import numpy as np\n",
    "import scipy"
   ]
  },
  {
   "cell_type": "code",
   "execution_count": 2,
   "id": "549884a3",
   "metadata": {},
   "outputs": [],
   "source": [
    "import pandas as pd\n",
    "\n",
    "# Read the CSV file skipping the first row\n",
    "df = pd.read_csv(\"data/expTvsX_PRXQ.csv\", header=None, skiprows=1)\n",
    "\n",
    "# If you're not sure about the number of columns, you can loop through them\n",
    "num_columns = len(df.columns)\n",
    "columns = []\n",
    "\n",
    "for i in range(num_columns):\n",
    "    columns.append(df[i].values)\n",
    "columns = np.asarray(columns)\n",
    "# Now each column is stored in separate arrays, starting from the second row"
   ]
  },
  {
   "cell_type": "markdown",
   "id": "bc7b000b",
   "metadata": {},
   "source": []
  },
  {
   "cell_type": "code",
   "execution_count": 51,
   "id": "232d49af",
   "metadata": {},
   "outputs": [],
   "source": [
    "#gamma = columns[0]\n",
    "#dgamma = columns[1]\n",
    "#cryotemp = columns[4]\n",
    "position = columns[0]\n",
    "temp = columns[1]\n",
    "cryotemp = np.ones(columns[0].size)*3.\n",
    "\n",
    "idx = np.argsort( position )\n",
    "position = position[idx]\n",
    "temp = temp[idx]\n",
    "\n",
    "# Find indices where values in A are between 10 and 20\n",
    "indices_to_remove = np.where((position >= -10) & (position <= -5))\n",
    "\n",
    "# Remove entries from A and B using the found indices\n",
    "position = np.delete(position, indices_to_remove)\n",
    "temp = np.delete(temp, indices_to_remove)\n",
    "    "
   ]
  },
  {
   "cell_type": "code",
   "execution_count": null,
   "id": "e9369d22",
   "metadata": {},
   "outputs": [],
   "source": []
  },
  {
   "cell_type": "code",
   "execution_count": 52,
   "id": "455f2bf5",
   "metadata": {},
   "outputs": [
    {
     "data": {
      "image/png": "[encoded data removed]",
      "text/plain": [
       "<Figure size 432x288 with 1 Axes>"
      ]
     },
     "metadata": {
      "needs_background": "light"
     },
     "output_type": "display_data"
    }
   ],
   "source": [
    "import matplotlib.pyplot as plt\n",
    "\n",
    "\n",
    "plt.plot( position, temp, 'c')\n",
    "\n",
    "# Add labels and legend\n",
    "plt.xlabel('X-axis')\n",
    "plt.ylabel('T-axis')\n",
    "\n",
    "# Show plot\n",
    "plt.show()"
   ]
  },
  {
   "cell_type": "code",
   "execution_count": null,
   "id": "0c8c561f",
   "metadata": {},
   "outputs": [],
   "source": []
  },
  {
   "cell_type": "code",
   "execution_count": null,
   "id": "f56432ce",
   "metadata": {},
   "outputs": [],
   "source": []
  },
  {
   "cell_type": "code",
   "execution_count": 45,
   "id": "3707d9bd",
   "metadata": {},
   "outputs": [],
   "source": [
    "import numpy as np\n",
    "import matplotlib.pyplot as plt\n",
    "import functions as fun\n",
    "#Define the number of lattice sites on x and y\n",
    "Nx = 60\n",
    "Ny = 30\n",
    "#=============================================\n",
    "#Choose your lattice type\n",
    "#pR = fun.triangular_lattice( Nx, Ny )\n",
    "pR = fun.square_lattice( Nx, Ny )\n",
    "#pR = fun.honeycomb_lattice( Nx, Ny )\n",
    "#=============================================\n",
    "#If you want hexagonal boundaries use this function. Otherwise comment it with '#' and set R=pR\n",
    "R = pR\n",
    "#R = fun.hexagonal_boundaries(pR)\n",
    "#=============================================\n",
    "#Dissipative boundaries\n",
    "x = R[:,0]\n",
    "y = R[:,1]\n",
    "beta = 3.5\n",
    "x0 = 5\n",
    "y0 = 5\n",
    "vec = (1./( np.exp( beta*(x-x0) ) + 1. ) + 1./( np.exp( -beta*(x-(Nx-1 - x0)) ) + 1. ) )*(1./( np.exp( -beta*(y-y0) ) + 1. ) + 1./( np.exp( beta*(y-(Ny-1 - y0)) ) + 1. ))\n",
    "vec += (1./( np.exp( beta*(y-y0) ) + 1. ) + 1./( np.exp( -beta*(y-(Ny-1 - y0)) ) + 1. ) )*( 1./( np.exp( -beta*(x-x0) ) + 1. ) + 1./( np.exp( beta*(x-(Nx-1 - x0)) ) + 1. ) )\n",
    "vec = (vec - np.amin(vec))/(np.amax(vec)- np.amin(vec)) * 10.\n",
    "#=============================================\n",
    "#Define the integral kernel that solve the heat equation (also called Green's function)\n",
    "HeatKernel = fun.heat_kernel(R, vec)\n",
    "#============================================="
   ]
  },
  {
   "cell_type": "code",
   "execution_count": 46,
   "id": "3497b705",
   "metadata": {},
   "outputs": [
    {
     "data": {
      "image/png": "[encoded data removed]",
      "text/plain": [
       "<Figure size 840x360 with 2 Axes>"
      ]
     },
     "metadata": {
      "needs_background": "light"
     },
     "output_type": "display_data"
    }
   ],
   "source": [
    "x, y = np.meshgrid( np.linspace(0, Nx-1, Nx), np.linspace(0, Ny-1, Ny)  )\n",
    "vec = (1./( np.exp( beta*(x-x0) ) + 1. ) + 1./( np.exp( -beta*(x-(Nx-1 - x0)) ) + 1. ) )*(1./( np.exp( -beta*(y-y0) ) + 1. ) + 1./( np.exp( beta*(y-(Ny-1 - y0)) ) + 1. ))\n",
    "vec += (1./( np.exp( beta*(y-y0) ) + 1. ) + 1./( np.exp( -beta*(y-(Ny-1 - y0)) ) + 1. ) )*( 1./( np.exp( -beta*(x-x0) ) + 1. ) + 1./( np.exp( beta*(x-(Nx-1 - x0)) ) + 1. ) )\n",
    "vec = (vec - np.amin(vec))/(np.amax(vec)- np.amin(vec)) * 10.\n",
    "fig, ax = plt.subplots(dpi=120, figsize=(7, 3))\n",
    "pcm = ax.pcolormesh(x, y, np.abs(vec), cmap='viridis', shading='auto')\n",
    "cbar = plt.colorbar(pcm, ax=ax)\n",
    "\n",
    "plt.show()"
   ]
  },
  {
   "cell_type": "code",
   "execution_count": 53,
   "id": "c8ceba31",
   "metadata": {},
   "outputs": [],
   "source": [
    "from scipy.interpolate import interp1d\n",
    "#kappa0 = 0.0084 #heat conductivity in W/(m K)\n",
    "#T0 = 3. #reference temperature of the membrane in Kelvin\n",
    "#P_L = 40 * 0.000000001 #in nWatts\n",
    "#L_tot = Xmax-Xmin #characteristic system size in micron ... it should be something like L_tot > Nx, Ny\n",
    "\n",
    "def temp_profile( arr_X, nu, kappa0, T0, X_meas, P_L, L_tot ):\n",
    "    #Choose more or less (it will be approximated to the closest lattice site) \n",
    "    #a position on the lattice where you want to measure T (molecule position)\n",
    "    #X_meas = np.amax(R[:,0])/2.\n",
    "    Y_meas = np.amax(R[:,1])/2.\n",
    "    #Choose a position along Y where to put your laser (the scan will be done along X)\n",
    "    Y_L = np.amax(R[:,1])/2. #Here I set the laser around half-lattice on Y\n",
    "    #=============================================\n",
    "    #=============================================\n",
    "    #Define dimensional parameters\n",
    "    dr = L_tot/np.sqrt(Nx*Ny) #in micron\n",
    "    #Define the main control parameter of the heat equation\n",
    "    X0 = P_L/kappa0/T0 * 1000000 #in micron\n",
    "    #=============================================\n",
    "    #Choose the value of the laser spatial width (assuming a Gaussian profile for now, in adimensional units)\n",
    "    sigma_L = 1. #in micron\n",
    "    C = 4.*( np.abs(nu) + 1. ) * ( X0/dr )\n",
    "    #=============================================\n",
    "    #Make the laser scan along x solving iteratively the heat equation\n",
    "    #arr_X stores the positions of the laser along X (given that it is in Y_L along Y)\n",
    "    #T_meas stores the temperature profile as a function of the laser x-position\n",
    "    #outputs are in ADIMENSIONAL units\n",
    "    arr_X_discr, T_meas_discr = fun.x_laser_scan(R, HeatKernel, X_meas, Y_meas, Y_L, C, np.abs(nu), sigma_L/dr )\n",
    "    #=============================================\n",
    "    #Here we set everything in DIMENSIONAL units\n",
    "    T_interp = interp1d(dr*arr_X_discr, T_meas_discr, kind='linear')\n",
    "    T_meas = T0*T_interp(arr_X) \n",
    "    \n",
    "    return T_meas"
   ]
  },
  {
   "cell_type": "code",
   "execution_count": 57,
   "id": "b2924451",
   "metadata": {},
   "outputs": [
    {
     "name": "stdout",
     "output_type": "stream",
     "text": [
      "82.277265\n"
     ]
    }
   ],
   "source": [
    "from scipy.optimize import curve_fit\n",
    "\n",
    "cryoT = 3.\n",
    "\n",
    "L_tot = (np.amax(position)-np.amin(position))*1.5\n",
    "print(L_tot)\n",
    "P_L = 80 * 0.000000001 #in nWatts\n",
    "X_meas = (18.3)/(L_tot/np.sqrt(Nx*Ny)) + x0\n",
    "\n",
    "funT = lambda X, nu, kappa0, T0: temp_profile( X, nu, kappa0, T0, X_meas, P_L, L_tot )\n",
    "\n",
    "popt, pcov = curve_fit( funT, position-np.amin(position), temp, p0=[ .50, 0.008, cryoT ] )\n",
    "#y_fit = funT(arr_X[n]-np.amin(arr_X[n]), popt[0], popt[1], popt[2], popt[3] )\n"
   ]
  },
  {
   "cell_type": "code",
   "execution_count": 58,
   "id": "c1163a21",
   "metadata": {},
   "outputs": [
    {
     "name": "stdout",
     "output_type": "stream",
     "text": [
      "[2.08414800e+00 1.39754500e-03 3.10511358e+00]\n"
     ]
    }
   ],
   "source": [
    "print(popt)\n",
    "vec_x = np.linspace( 0, np.amax(position)-np.amin(position) , 100 )\n",
    "y_fit = funT( vec_x, popt[0], popt[1], popt[2] )"
   ]
  },
  {
   "cell_type": "code",
   "execution_count": 59,
   "id": "e107c445",
   "metadata": {},
   "outputs": [
    {
     "data": {
      "image/png": "[encoded data removed]",
      "text/plain": [
       "<Figure size 432x288 with 1 Axes>"
      ]
     },
     "metadata": {
      "needs_background": "light"
     },
     "output_type": "display_data"
    }
   ],
   "source": [
    "plt.plot( position-np.amin(position), temp, 'x')\n",
    "\n",
    "plt.plot( vec_x, y_fit, 'c')\n",
    "\n",
    "# Add labels and legend\n",
    "plt.xlabel('$\\mu$m')\n",
    "plt.ylabel('Kelvin')\n",
    "\n",
    "# Show plot\n",
    "plt.show()"
   ]
  },
  {
   "cell_type": "code",
   "execution_count": 203,
   "id": "122a9a89",
   "metadata": {},
   "outputs": [
    {
     "data": {
      "image/png": "[encoded data removed]",
      "text/plain": [
       "<Figure size 432x288 with 1 Axes>"
      ]
     },
     "metadata": {
      "needs_background": "light"
     },
     "output_type": "display_data"
    }
   ],
   "source": [
    "plt.plot( arr_X[n]-np.amin(arr_X[n]), arr_T[n], 'x')\n",
    "\n",
    "plt.plot( vec_x, y_fit, 'c')\n",
    "\n",
    "# Add labels and legend\n",
    "plt.xlabel('$\\mu$m')\n",
    "plt.ylabel('Kelvin')\n",
    "\n",
    "plt.savefig('fits/cryo_T=%.1f_P%.2f_nu%.1f_kappa%.2f_Tx%.1f.pdf' % (cryoT, P_L/0.000000001, popt[0], popt[1]*1000, popt[2]), format='pdf')\n",
    "\n",
    "# Show plot\n",
    "plt.show()"
   ]
  },
  {
   "cell_type": "code",
   "execution_count": null,
   "id": "f220a65f",
   "metadata": {},
   "outputs": [],
   "source": []
  }
 ],
 "metadata": {
  "kernelspec": {
   "display_name": "Python 3",
   "language": "python",
   "name": "python3"
  },
  "language_info": {
   "codemirror_mode": {
    "name": "ipython",
    "version": 3
   },
   "file_extension": ".py",
   "mimetype": "text/x-python",
   "name": "python",
   "nbconvert_exporter": "python",
   "pygments_lexer": "ipython3",
   "version": "3.7.4"
  }
 },
 "nbformat": 4,
 "nbformat_minor": 5
}
